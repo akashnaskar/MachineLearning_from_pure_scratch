{
  "nbformat": 4,
  "nbformat_minor": 0,
  "metadata": {
    "colab": {
      "name": "K-nearest neighbors from scratch.ipynb",
      "provenance": [],
      "collapsed_sections": [],
      "authorship_tag": "ABX9TyNhRM4UjS+SxPuBbfeHflGZ"
    },
    "kernelspec": {
      "name": "python3",
      "display_name": "Python 3"
    }
  },
  "cells": [
    {
      "cell_type": "code",
      "metadata": {
        "id": "LGeaWcXANOUS"
      },
      "source": [
        "\"\"\"This program has been divded into 5 parts:\n",
        "1. Eucledian distance\n",
        "2.Get classifiers\n",
        "3.MAke predictions\"\"\""
      ],
      "execution_count": null,
      "outputs": []
    },
    {
      "cell_type": "markdown",
      "metadata": {
        "id": "C7ImXO7KH-bP"
      },
      "source": [
        "#1.simple function to calculate the eucledian distance between two points"
      ]
    },
    {
      "cell_type": "code",
      "metadata": {
        "id": "jRpz0KXZkRCH"
      },
      "source": [
        "from math import sqrt\n",
        "def euclidean_distance(row1, row2):\n",
        "  dist=0.0\n",
        "  for i in range(len(row1)-1):\n",
        "    dist+=(row1[i] - row2[i])**2\n",
        "  return sqrt(dist)\n"
      ],
      "execution_count": null,
      "outputs": []
    },
    {
      "cell_type": "code",
      "metadata": {
        "colab": {
          "base_uri": "https://localhost:8080/"
        },
        "id": "VzwduAHkuzmx",
        "outputId": "ce778b6c-85cb-4145-8590-fd2c0d0ae4dc"
      },
      "source": [
        "dataset = [[2.7810836,2.550537003,0],\n",
        "[1.465489372,2.362125076,0],\n",
        "[3.396561688,4.400293529,0],\n",
        "[1.38807019,1.850220317,0],\n",
        "[3.06407232,3.005305973,0],\n",
        "[7.627531214,2.759262235,1],\n",
        "[5.332441248,2.088626775,1],\n",
        "[6.922596716,1.77106367,1],\n",
        "[8.675418651,-0.242068655,1],\n",
        "[7.673756466,3.508563011,1]]\n",
        "row0=dataset[0]\n",
        "for row in dataset:\n",
        "  distance=euclidean_distance(row,row0)\n",
        "  print(distance)\n",
        "\n"
      ],
      "execution_count": null,
      "outputs": [
        {
          "output_type": "stream",
          "text": [
            "0.0\n",
            "1.3290173915275787\n",
            "1.9494646655653247\n",
            "1.5591439385540549\n",
            "0.5356280721938492\n",
            "4.850940186986411\n",
            "2.592833759950511\n",
            "4.214227042632867\n",
            "6.522409988228337\n",
            "4.985585382449795\n"
          ],
          "name": "stdout"
        }
      ]
    },
    {
      "cell_type": "markdown",
      "metadata": {
        "id": "5ndtfUvbIFiL"
      },
      "source": [
        "##  #2. Simple program to get the 'n' closest **neighbors**"
      ]
    },
    {
      "cell_type": "code",
      "metadata": {
        "id": "Lyjn0lfXv74w"
      },
      "source": [
        "# Locate the most similar neighbors\n",
        "def get_neighbors(train, test_row, num_neighbors):\n",
        "\tdistances = list()\n",
        "\tfor train_row in train:\n",
        "\t\tdist = euclidean_distance(test_row, train_row)\n",
        "\t\tdistances.append((train_row, dist))\n",
        "\tdistances.sort(key=lambda tup: tup[1])\n",
        "\tneighbors = list()\n",
        "\tfor i in range(num_neighbors):\n",
        "\t\tneighbors.append(distances[i][0])\n",
        "\treturn neighbors"
      ],
      "execution_count": null,
      "outputs": []
    },
    {
      "cell_type": "code",
      "metadata": {
        "colab": {
          "base_uri": "https://localhost:8080/"
        },
        "id": "peDLQZ5F0cN8",
        "outputId": "90a2d404-17ec-4ea0-a2c8-b2b8d009eb45"
      },
      "source": [
        "dataset = [[2.7810836,2.550537003,0],\n",
        "[1.465489372,2.362125076,0],\n",
        "[3.396561688,4.400293529,0],\n",
        "[1.38807019,1.850220317,0],\n",
        "[3.06407232,3.005305973,0],\n",
        "[7.627531214,2.759262235,1],\n",
        "[5.332441248,2.088626775,1],\n",
        "[6.922596716,1.77106367,1],\n",
        "[8.675418651,-0.242068655,1],\n",
        "[7.673756466,3.508563011,1]]\n",
        "\n",
        "neighbors = get_neighbors(dataset, dataset[0], 3)\n",
        "for neighbor in neighbors:\n",
        "\tprint(neighbor)\n",
        "\n"
      ],
      "execution_count": null,
      "outputs": [
        {
          "output_type": "stream",
          "text": [
            "[2.7810836, 2.550537003, 0]\n",
            "[3.06407232, 3.005305973, 0]\n",
            "[1.465489372, 2.362125076, 0]\n"
          ],
          "name": "stdout"
        }
      ]
    },
    {
      "cell_type": "code",
      "metadata": {
        "colab": {
          "base_uri": "https://localhost:8080/"
        },
        "id": "TVZFvVUQ1RXK",
        "outputId": "c2e2d0a9-496a-4707-d847-61e33fed773a"
      },
      "source": [
        "#Another way of doiing the same\n",
        "dataset = [[2.7810836,2.550537003,0],\n",
        "[1.465489372,2.362125076,0],\n",
        "[3.396561688,4.400293529,0],\n",
        "[1.38807019,1.850220317,0],\n",
        "[3.06407232,3.005305973,0],\n",
        "[7.627531214,2.759262235,1],\n",
        "[5.332441248,2.088626775,1],\n",
        "[6.922596716,1.77106367,1],\n",
        "[8.675418651,-0.242068655,1],\n",
        "[7.673756466,3.508563011,1]]\n",
        "row0=dataset[0]\n",
        "dist=list()\n",
        "for row in dataset:\n",
        "  distance=euclidean_distance(row,row0)\n",
        "  dist.append(distance)\n",
        "  dist.sort(reverse=True)\n",
        "dist[0:3]\n",
        "print(dist[0:3])\n",
        "\n"
      ],
      "execution_count": null,
      "outputs": [
        {
          "output_type": "stream",
          "text": [
            "[6.522409988228337, 4.985585382449795, 4.850940186986411]\n"
          ],
          "name": "stdout"
        }
      ]
    },
    {
      "cell_type": "markdown",
      "metadata": {
        "id": "MlQgItcfIXEV"
      },
      "source": [
        "#3 Simple function to predict the class label and match with the correct label"
      ]
    },
    {
      "cell_type": "code",
      "metadata": {
        "colab": {
          "base_uri": "https://localhost:8080/"
        },
        "id": "IirGq29nB7HU",
        "outputId": "063f98a1-1ba8-4258-ecfa-f162c7d8f10b"
      },
      "source": [
        "def predict_classification(train, test_row, num_neighbors):\n",
        "  neighbors = get_neighbors(train, test_row, num_neighbors)\n",
        "  output_values = [row[-1] for row in neighbors]\n",
        "  prediction = max(set(output_values), key=output_values.count)\n",
        "  return prediction\n",
        "\n",
        "prediction = predict_classification(dataset, dataset[3], 3)\n",
        "print('Expected %d, Got %d.' % (dataset[3][-1], prediction))"
      ],
      "execution_count": null,
      "outputs": [
        {
          "output_type": "stream",
          "text": [
            "Expected 0, Got 0.\n"
          ],
          "name": "stdout"
        }
      ]
    },
    {
      "cell_type": "code",
      "metadata": {
        "id": "PMRWCyUdCBM7"
      },
      "source": [
        ""
      ],
      "execution_count": null,
      "outputs": []
    }
  ]
}